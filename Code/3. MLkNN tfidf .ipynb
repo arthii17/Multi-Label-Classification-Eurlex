{
 "cells": [
  {
   "cell_type": "code",
   "execution_count": 2,
   "metadata": {},
   "outputs": [],
   "source": [
    "import pandas as pd\n"
   ]
  },
  {
   "cell_type": "code",
   "execution_count": 5,
   "metadata": {},
   "outputs": [],
   "source": [
    "Dataset = pd.read_csv(\"C:\\\\Users\\Mahantesh\\\\Desktop\\\\Summer Sem 2019\\\\AML\\\\Project\\\\Raw Dataset\\\\Dataset.csv\")"
   ]
  },
  {
   "cell_type": "code",
   "execution_count": 24,
   "metadata": {},
   "outputs": [],
   "source": [
    "Dataset.to_csv(\"C:\\\\Users\\Mahantesh\\\\Desktop\\\\Summer Sem 2019\\\\AML\\\\Project\\\\Raw Dataset\\\\Dataset.csv\",index =False)"
   ]
  },
  {
   "cell_type": "code",
   "execution_count": 3,
   "metadata": {},
   "outputs": [],
   "source": [
    "train_x = pd.read_csv(\"C:\\\\Users\\Mahantesh\\\\Desktop\\\\Summer Sem 2019\\\\AML\\\\Project\\\\Dataset for Training\\\\Train_X.csv\")\n",
    "train_y = pd.read_csv(\"C:\\\\Users\\Mahantesh\\\\Desktop\\\\Summer Sem 2019\\\\AML\\\\Project\\\\Dataset for Training\\\\Train_Y.csv\")\n",
    "valid_x = pd.read_csv(\"C:\\\\Users\\Mahantesh\\\\Desktop\\\\Summer Sem 2019\\\\AML\\\\Project\\\\Dataset for Testing\\\\Valid_X.csv\")\n",
    "valid_y = pd.read_csv(\"C:\\\\Users\\Mahantesh\\\\Desktop\\\\Summer Sem 2019\\\\AML\\\\Project\\\\Dataset for Testing\\\\Valid_Y.csv\")"
   ]
  },
  {
   "cell_type": "code",
   "execution_count": 14,
   "metadata": {},
   "outputs": [],
   "source": [
    "from sklearn.feature_extraction.text import TfidfVectorizer, CountVectorizer\n",
    "from sklearn import decomposition, ensemble\n",
    "\n",
    "\n",
    "tfidf_vect = TfidfVectorizer(analyzer='word', stop_words='english',lowercase=True,\n",
    "                                     token_pattern='[a-zA-Z0-9]{3,}',max_features=5000)\n",
    "\n"
   ]
  },
  {
   "cell_type": "code",
   "execution_count": 17,
   "metadata": {},
   "outputs": [],
   "source": [
    "#tfidf Vectorizer\n",
    "tfidf_vect.fit(Dataset['TEXT'])\n",
    "xtrain_tfidf =  tfidf_vect.transform(pd.Series(train_x[\"TEXT\"]))\n",
    "xvalid_tfidf =  tfidf_vect.transform(pd.Series(valid_x[\"TEXT\"]))"
   ]
  },
  {
   "cell_type": "code",
   "execution_count": 29,
   "metadata": {},
   "outputs": [],
   "source": [
    "#ngram tfidf Vectorizer\n",
    "tfidf_vect_ngram = TfidfVectorizer(analyzer='word', token_pattern=r'\\w{1,}', stop_words='english',ngram_range=(1,2), max_features=5000)\n",
    "tfidf_vect_ngram.fit(Dataset['TEXT'])\n",
    "xtrain_tfidf_ngram =  tfidf_vect_ngram.transform(pd.Series(train_x[\"TEXT\"]))\n",
    "xvalid_tfidf_ngram =  tfidf_vect_ngram.transform(pd.Series(valid_x[\"TEXT\"]))"
   ]
  },
  {
   "cell_type": "code",
   "execution_count": 30,
   "metadata": {},
   "outputs": [
    {
     "data": {
      "text/plain": [
       "<14559x5000 sparse matrix of type '<class 'numpy.float64'>'\n",
       "\twith 6412887 stored elements in Compressed Sparse Row format>"
      ]
     },
     "execution_count": 30,
     "metadata": {},
     "output_type": "execute_result"
    }
   ],
   "source": [
    "xtrain_tfidf_ngram"
   ]
  },
  {
   "cell_type": "code",
   "execution_count": 33,
   "metadata": {},
   "outputs": [
    {
     "data": {
      "text/plain": [
       "MLkNN(ignore_first_neighbours=0, k=5, s=1.0)"
      ]
     },
     "execution_count": 33,
     "metadata": {},
     "output_type": "execute_result"
    }
   ],
   "source": [
    "from skmultilearn.adapt import MLkNN\n",
    "from scipy.sparse import csr_matrix, lil_matrix\n",
    "classifier_new = MLkNN(k=5)\n",
    "# Note that this classifier can throw up errors when handling sparse matrices.\n",
    "x_train_sp = lil_matrix(xtrain_tfidf_ngram).toarray()\n",
    "y_train_sp = lil_matrix(train_y).toarray()\n",
    "x_test_sp = lil_matrix(xvalid_tfidf_ngram).toarray()\n",
    "# train\n",
    "classifier_new.fit(x_train_sp, y_train_sp)\n"
   ]
  },
  {
   "cell_type": "code",
   "execution_count": 34,
   "metadata": {},
   "outputs": [
    {
     "name": "stdout",
     "output_type": "stream",
     "text": [
      "Accuracy =  0.024515863205603627\n",
      "\n",
      "\n"
     ]
    }
   ],
   "source": [
    "from sklearn.metrics import accuracy_score\n",
    "\n",
    "# predict\n",
    "predictions_MLkNN = classifier_new.predict(x_test_sp)\n",
    "# accuracy\n",
    "\n",
    "print(\"Accuracy = \",accuracy_score(valid_y,predictions_MLkNN))\n",
    "print(\"\\n\")\n",
    "\n"
   ]
  },
  {
   "cell_type": "code",
   "execution_count": 35,
   "metadata": {},
   "outputs": [],
   "source": [
    "pd.DataFrame(predictions_MLkNN.todense()).to_csv(\"C:\\\\Users\\Mahantesh\\\\Desktop\\\\Summer Sem 2019\\\\AML\\\\Project\\\\MLknn_tfidf_ngram_predictions.csv\",index =False)"
   ]
  },
  {
   "cell_type": "code",
   "execution_count": 37,
   "metadata": {},
   "outputs": [],
   "source": [
    "#Binary Relevance Code\n",
    "from skmultilearn.problem_transform import BinaryRelevance\n",
    "from sklearn.naive_bayes import GaussianNB\n",
    "from sklearn.naive_bayes import MultinomialNB\n",
    "from sklearn.svm import SVC\n",
    "from sklearn.metrics import accuracy_score\n"
   ]
  },
  {
   "cell_type": "code",
   "execution_count": 38,
   "metadata": {
    "collapsed": true
   },
   "outputs": [
    {
     "name": "stdout",
     "output_type": "stream",
     "text": [
      "0\n",
      "1\n",
      "2\n",
      "3\n",
      "4\n",
      "5\n",
      "6\n",
      "7\n",
      "8\n",
      "9\n",
      "10\n",
      "11\n",
      "12\n",
      "13\n",
      "14\n",
      "15\n",
      "16\n",
      "17\n",
      "18\n",
      "19\n",
      "20\n",
      "21\n",
      "22\n",
      "23\n",
      "24\n",
      "25\n",
      "26\n",
      "27\n",
      "28\n",
      "29\n",
      "30\n",
      "31\n",
      "32\n",
      "33\n",
      "34\n",
      "35\n",
      "36\n",
      "37\n",
      "38\n",
      "39\n",
      "40\n",
      "41\n",
      "42\n",
      "43\n",
      "44\n",
      "45\n",
      "46\n",
      "47\n",
      "48\n",
      "49\n",
      "50\n",
      "51\n",
      "52\n",
      "53\n",
      "54\n",
      "55\n",
      "56\n",
      "57\n",
      "58\n",
      "59\n",
      "60\n",
      "61\n",
      "62\n",
      "63\n",
      "64\n",
      "65\n",
      "66\n",
      "67\n",
      "68\n",
      "69\n",
      "70\n",
      "71\n",
      "72\n",
      "73\n",
      "74\n",
      "75\n",
      "76\n",
      "77\n",
      "78\n"
     ]
    }
   ],
   "source": [
    "#Run the Binary Relevance model \n",
    "BR_classifier =[]\n",
    "predictions = []\n",
    "for i in range(79):\n",
    "    BR_classifier.append(BinaryRelevance(GaussianNB()))\n",
    "    predictions.append([])\n",
    " \n",
    "for i in range(79):\n",
    "    print(i)\n",
    "    BR_classifier[i].fit(xtrain_tfidf_ngram, train_y.iloc[:,(50*i):(50*i + 50)])\n",
    "    predictions[i]=BR_classifier[i].predict(xvalid_tfidf_ngram).todense().astype(float)\n"
   ]
  },
  {
   "cell_type": "code",
   "execution_count": 47,
   "metadata": {},
   "outputs": [],
   "source": [
    "#Remaining columns\n",
    "#BR_classifier.append(BinaryRelevance(GaussianNB()))\n",
    "BR_classifier[79].fit(xtrain_tfidf_ngram, train_y.iloc[:,3950:3954])\n",
    "\n",
    "predictions.append([])\n",
    "predictions[79]=BR_classifier[79].predict(xvalid_tfidf_ngram).todense().astype(float)\n"
   ]
  },
  {
   "cell_type": "code",
   "execution_count": 49,
   "metadata": {},
   "outputs": [],
   "source": [
    "#Export the results\n",
    "BR_Result = pd.DataFrame()\n",
    "for i in range(80):\n",
    "    BR_Result =  pd.concat([BR_Result.reset_index(drop=True), pd.DataFrame(predictions[i])], axis=1)\n",
    "\n",
    "\n",
    "BR_Result.to_csv('C:\\\\Users\\\\Mahantesh\\\\Desktop\\\\Summer Sem 2019\\\\AML\\\\Project\\\\BinaryRelevance_tfidf_ngram_predictions.csv',index =False)\n"
   ]
  },
  {
   "cell_type": "code",
   "execution_count": 50,
   "metadata": {},
   "outputs": [
    {
     "name": "stdout",
     "output_type": "stream",
     "text": [
      "Accuracy =  0.00041203131437989287\n"
     ]
    }
   ],
   "source": [
    "#Check exact match ratio\n",
    "print(\"Accuracy = \",accuracy_score(valid_y,BR_Result))\n"
   ]
  },
  {
   "cell_type": "code",
   "execution_count": 48,
   "metadata": {},
   "outputs": [
    {
     "name": "stdout",
     "output_type": "stream",
     "text": [
      "       0    1    2    3    4    5    6    7    8    9   ...   45   46   47  \\\n",
      "0     0.0  0.0  0.0  0.0  0.0  0.0  0.0  0.0  0.0  0.0  ...  0.0  0.0  0.0   \n",
      "1     0.0  0.0  0.0  0.0  0.0  0.0  0.0  0.0  0.0  0.0  ...  0.0  0.0  0.0   \n",
      "2     0.0  0.0  0.0  0.0  0.0  0.0  0.0  0.0  0.0  0.0  ...  0.0  0.0  0.0   \n",
      "3     0.0  0.0  0.0  0.0  0.0  0.0  0.0  0.0  0.0  0.0  ...  0.0  0.0  0.0   \n",
      "4     0.0  0.0  0.0  0.0  0.0  0.0  0.0  0.0  0.0  0.0  ...  0.0  0.0  0.0   \n",
      "5     0.0  0.0  0.0  0.0  0.0  0.0  0.0  0.0  0.0  0.0  ...  0.0  0.0  0.0   \n",
      "6     0.0  0.0  0.0  0.0  0.0  0.0  0.0  0.0  0.0  0.0  ...  0.0  0.0  0.0   \n",
      "7     0.0  0.0  0.0  0.0  0.0  0.0  0.0  0.0  0.0  0.0  ...  0.0  0.0  0.0   \n",
      "8     0.0  0.0  0.0  0.0  0.0  0.0  0.0  0.0  0.0  0.0  ...  0.0  0.0  0.0   \n",
      "9     0.0  0.0  0.0  0.0  0.0  0.0  0.0  0.0  0.0  0.0  ...  0.0  0.0  0.0   \n",
      "10    0.0  0.0  0.0  0.0  0.0  0.0  0.0  0.0  0.0  0.0  ...  0.0  0.0  0.0   \n",
      "11    0.0  0.0  0.0  0.0  0.0  0.0  0.0  0.0  0.0  0.0  ...  0.0  0.0  0.0   \n",
      "12    0.0  0.0  0.0  0.0  0.0  0.0  0.0  0.0  0.0  0.0  ...  0.0  0.0  0.0   \n",
      "13    0.0  0.0  0.0  0.0  0.0  0.0  0.0  0.0  0.0  0.0  ...  0.0  0.0  0.0   \n",
      "14    0.0  0.0  0.0  0.0  0.0  0.0  0.0  0.0  0.0  0.0  ...  0.0  0.0  0.0   \n",
      "15    0.0  0.0  0.0  0.0  0.0  0.0  0.0  0.0  0.0  0.0  ...  0.0  0.0  0.0   \n",
      "16    0.0  0.0  0.0  0.0  0.0  0.0  0.0  0.0  0.0  0.0  ...  0.0  0.0  0.0   \n",
      "17    0.0  0.0  0.0  0.0  0.0  0.0  0.0  0.0  0.0  0.0  ...  0.0  0.0  0.0   \n",
      "18    0.0  0.0  0.0  0.0  0.0  0.0  0.0  0.0  0.0  0.0  ...  0.0  0.0  0.0   \n",
      "19    0.0  0.0  0.0  0.0  0.0  0.0  0.0  0.0  0.0  0.0  ...  0.0  0.0  0.0   \n",
      "20    0.0  0.0  0.0  0.0  0.0  0.0  0.0  0.0  0.0  0.0  ...  0.0  0.0  0.0   \n",
      "21    0.0  0.0  0.0  0.0  0.0  0.0  0.0  0.0  0.0  0.0  ...  0.0  0.0  0.0   \n",
      "22    0.0  0.0  0.0  0.0  0.0  0.0  0.0  0.0  0.0  0.0  ...  0.0  0.0  0.0   \n",
      "23    0.0  0.0  0.0  0.0  0.0  0.0  0.0  0.0  0.0  0.0  ...  0.0  0.0  0.0   \n",
      "24    0.0  0.0  0.0  0.0  0.0  0.0  0.0  0.0  0.0  0.0  ...  0.0  0.0  0.0   \n",
      "25    0.0  0.0  0.0  0.0  0.0  0.0  0.0  0.0  0.0  0.0  ...  0.0  0.0  0.0   \n",
      "26    0.0  0.0  0.0  0.0  0.0  0.0  0.0  0.0  0.0  0.0  ...  0.0  0.0  0.0   \n",
      "27    0.0  0.0  0.0  0.0  0.0  0.0  0.0  0.0  0.0  0.0  ...  0.0  0.0  0.0   \n",
      "28    0.0  0.0  0.0  0.0  0.0  0.0  0.0  0.0  0.0  0.0  ...  0.0  0.0  0.0   \n",
      "29    0.0  0.0  0.0  0.0  0.0  0.0  0.0  0.0  0.0  0.0  ...  0.0  0.0  0.0   \n",
      "...   ...  ...  ...  ...  ...  ...  ...  ...  ...  ...  ...  ...  ...  ...   \n",
      "4824  0.0  0.0  0.0  0.0  0.0  0.0  0.0  0.0  0.0  0.0  ...  0.0  0.0  0.0   \n",
      "4825  0.0  0.0  0.0  0.0  0.0  0.0  0.0  0.0  0.0  0.0  ...  0.0  0.0  0.0   \n",
      "4826  0.0  0.0  0.0  0.0  0.0  0.0  0.0  0.0  0.0  0.0  ...  0.0  0.0  0.0   \n",
      "4827  0.0  0.0  0.0  0.0  0.0  0.0  0.0  0.0  0.0  0.0  ...  0.0  0.0  0.0   \n",
      "4828  0.0  0.0  0.0  0.0  0.0  0.0  0.0  0.0  0.0  0.0  ...  0.0  0.0  0.0   \n",
      "4829  0.0  0.0  0.0  0.0  0.0  0.0  0.0  0.0  0.0  0.0  ...  0.0  0.0  0.0   \n",
      "4830  0.0  0.0  0.0  0.0  0.0  0.0  0.0  0.0  0.0  0.0  ...  0.0  0.0  0.0   \n",
      "4831  0.0  0.0  0.0  0.0  0.0  0.0  0.0  0.0  0.0  0.0  ...  0.0  0.0  0.0   \n",
      "4832  0.0  0.0  0.0  0.0  0.0  0.0  0.0  0.0  0.0  0.0  ...  0.0  0.0  0.0   \n",
      "4833  0.0  0.0  0.0  0.0  0.0  0.0  0.0  0.0  0.0  0.0  ...  0.0  0.0  0.0   \n",
      "4834  0.0  0.0  0.0  0.0  0.0  0.0  0.0  0.0  0.0  0.0  ...  0.0  0.0  0.0   \n",
      "4835  0.0  0.0  0.0  0.0  0.0  0.0  0.0  0.0  0.0  0.0  ...  0.0  0.0  0.0   \n",
      "4836  0.0  0.0  0.0  0.0  0.0  0.0  0.0  0.0  0.0  0.0  ...  0.0  0.0  0.0   \n",
      "4837  0.0  0.0  0.0  0.0  0.0  0.0  0.0  0.0  0.0  0.0  ...  0.0  0.0  0.0   \n",
      "4838  0.0  0.0  0.0  0.0  0.0  0.0  0.0  0.0  0.0  0.0  ...  0.0  0.0  0.0   \n",
      "4839  0.0  0.0  0.0  0.0  0.0  0.0  0.0  0.0  0.0  0.0  ...  0.0  0.0  0.0   \n",
      "4840  0.0  0.0  0.0  0.0  0.0  0.0  0.0  0.0  0.0  0.0  ...  0.0  0.0  0.0   \n",
      "4841  0.0  0.0  0.0  0.0  0.0  0.0  0.0  0.0  0.0  0.0  ...  0.0  0.0  0.0   \n",
      "4842  0.0  0.0  0.0  0.0  0.0  0.0  0.0  0.0  0.0  0.0  ...  0.0  0.0  0.0   \n",
      "4843  0.0  0.0  0.0  0.0  0.0  0.0  0.0  0.0  0.0  0.0  ...  0.0  0.0  0.0   \n",
      "4844  0.0  0.0  0.0  0.0  0.0  0.0  0.0  0.0  0.0  0.0  ...  0.0  0.0  0.0   \n",
      "4845  0.0  0.0  0.0  0.0  0.0  0.0  0.0  0.0  0.0  0.0  ...  0.0  0.0  0.0   \n",
      "4846  0.0  0.0  0.0  0.0  0.0  0.0  0.0  0.0  0.0  0.0  ...  0.0  0.0  0.0   \n",
      "4847  0.0  0.0  0.0  0.0  0.0  0.0  0.0  0.0  0.0  0.0  ...  0.0  0.0  0.0   \n",
      "4848  0.0  0.0  0.0  0.0  0.0  0.0  0.0  0.0  0.0  0.0  ...  0.0  0.0  0.0   \n",
      "4849  0.0  0.0  0.0  0.0  0.0  0.0  0.0  0.0  0.0  0.0  ...  0.0  0.0  0.0   \n",
      "4850  0.0  0.0  0.0  0.0  0.0  0.0  0.0  0.0  0.0  0.0  ...  0.0  0.0  0.0   \n",
      "4851  0.0  0.0  0.0  0.0  0.0  0.0  0.0  0.0  0.0  0.0  ...  0.0  0.0  0.0   \n",
      "4852  0.0  0.0  0.0  0.0  0.0  0.0  0.0  0.0  0.0  0.0  ...  0.0  0.0  0.0   \n",
      "4853  0.0  0.0  0.0  0.0  0.0  0.0  0.0  0.0  0.0  0.0  ...  0.0  0.0  0.0   \n",
      "\n",
      "       48   49   0    1    2    3    4   \n",
      "0     0.0  0.0  0.0  0.0  0.0  0.0  0.0  \n",
      "1     0.0  0.0  0.0  0.0  0.0  0.0  0.0  \n",
      "2     0.0  0.0  0.0  0.0  0.0  0.0  0.0  \n",
      "3     0.0  0.0  0.0  0.0  0.0  0.0  0.0  \n",
      "4     0.0  0.0  0.0  0.0  0.0  0.0  0.0  \n",
      "5     0.0  0.0  0.0  0.0  0.0  0.0  0.0  \n",
      "6     0.0  0.0  0.0  0.0  0.0  0.0  0.0  \n",
      "7     0.0  0.0  0.0  0.0  0.0  0.0  0.0  \n",
      "8     0.0  0.0  0.0  0.0  0.0  0.0  0.0  \n",
      "9     0.0  0.0  0.0  0.0  0.0  0.0  0.0  \n",
      "10    0.0  0.0  0.0  0.0  0.0  0.0  0.0  \n",
      "11    0.0  0.0  0.0  0.0  0.0  0.0  0.0  \n",
      "12    0.0  0.0  0.0  0.0  0.0  0.0  0.0  \n",
      "13    0.0  0.0  0.0  0.0  0.0  0.0  0.0  \n",
      "14    0.0  0.0  0.0  0.0  0.0  0.0  0.0  \n",
      "15    0.0  0.0  0.0  0.0  0.0  0.0  0.0  \n",
      "16    0.0  0.0  0.0  0.0  0.0  0.0  0.0  \n",
      "17    0.0  0.0  0.0  0.0  0.0  0.0  0.0  \n",
      "18    0.0  0.0  0.0  0.0  0.0  0.0  0.0  \n",
      "19    0.0  0.0  0.0  0.0  0.0  0.0  0.0  \n",
      "20    0.0  0.0  0.0  0.0  0.0  0.0  0.0  \n",
      "21    0.0  0.0  0.0  0.0  0.0  0.0  0.0  \n",
      "22    0.0  0.0  0.0  0.0  0.0  0.0  0.0  \n",
      "23    0.0  0.0  0.0  0.0  0.0  0.0  0.0  \n",
      "24    0.0  0.0  0.0  0.0  0.0  0.0  0.0  \n",
      "25    0.0  0.0  0.0  0.0  0.0  0.0  0.0  \n",
      "26    0.0  0.0  0.0  0.0  0.0  0.0  0.0  \n",
      "27    0.0  0.0  0.0  0.0  0.0  0.0  0.0  \n",
      "28    0.0  0.0  0.0  0.0  0.0  0.0  0.0  \n",
      "29    0.0  0.0  0.0  0.0  0.0  0.0  0.0  \n",
      "...   ...  ...  ...  ...  ...  ...  ...  \n",
      "4824  0.0  0.0  0.0  0.0  0.0  0.0  0.0  \n",
      "4825  0.0  0.0  0.0  0.0  0.0  0.0  0.0  \n",
      "4826  0.0  0.0  0.0  0.0  0.0  0.0  0.0  \n",
      "4827  0.0  0.0  0.0  0.0  0.0  0.0  0.0  \n",
      "4828  0.0  0.0  0.0  0.0  0.0  0.0  0.0  \n",
      "4829  0.0  0.0  0.0  0.0  0.0  0.0  0.0  \n",
      "4830  0.0  0.0  0.0  0.0  0.0  0.0  0.0  \n",
      "4831  0.0  0.0  0.0  0.0  0.0  0.0  0.0  \n",
      "4832  0.0  0.0  0.0  0.0  0.0  0.0  0.0  \n",
      "4833  0.0  0.0  0.0  0.0  0.0  0.0  0.0  \n",
      "4834  0.0  0.0  0.0  0.0  0.0  0.0  0.0  \n",
      "4835  0.0  0.0  0.0  0.0  0.0  0.0  0.0  \n",
      "4836  0.0  0.0  0.0  0.0  0.0  0.0  0.0  \n",
      "4837  0.0  0.0  0.0  0.0  0.0  0.0  0.0  \n",
      "4838  0.0  0.0  0.0  0.0  0.0  0.0  0.0  \n",
      "4839  0.0  0.0  0.0  0.0  0.0  0.0  0.0  \n",
      "4840  0.0  0.0  0.0  0.0  0.0  0.0  0.0  \n",
      "4841  0.0  0.0  0.0  0.0  0.0  0.0  0.0  \n",
      "4842  0.0  0.0  0.0  0.0  0.0  0.0  0.0  \n",
      "4843  0.0  0.0  0.0  0.0  0.0  0.0  0.0  \n",
      "4844  0.0  0.0  0.0  0.0  0.0  0.0  0.0  \n",
      "4845  0.0  0.0  0.0  0.0  0.0  0.0  0.0  \n",
      "4846  0.0  0.0  0.0  0.0  0.0  0.0  0.0  \n",
      "4847  0.0  0.0  0.0  0.0  0.0  0.0  0.0  \n",
      "4848  0.0  0.0  0.0  0.0  0.0  0.0  0.0  \n",
      "4849  0.0  0.0  0.0  0.0  0.0  0.0  0.0  \n",
      "4850  0.0  0.0  0.0  0.0  0.0  0.0  0.0  \n",
      "4851  0.0  0.0  0.0  0.0  0.0  0.0  0.0  \n",
      "4852  0.0  0.0  0.0  0.0  0.0  0.0  0.0  \n",
      "4853  0.0  0.0  0.0  0.0  0.0  0.0  0.0  \n",
      "\n",
      "[4854 rows x 3955 columns]\n"
     ]
    }
   ],
   "source": [
    "print (BR_Result)"
   ]
  }
 ],
 "metadata": {
  "kernelspec": {
   "display_name": "Python 3",
   "language": "python",
   "name": "python3"
  },
  "language_info": {
   "codemirror_mode": {
    "name": "ipython",
    "version": 3
   },
   "file_extension": ".py",
   "mimetype": "text/x-python",
   "name": "python",
   "nbconvert_exporter": "python",
   "pygments_lexer": "ipython3",
   "version": "3.7.3"
  }
 },
 "nbformat": 4,
 "nbformat_minor": 2
}
